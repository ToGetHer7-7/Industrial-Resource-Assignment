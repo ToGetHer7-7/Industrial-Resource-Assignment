{
 "cells": [
  {
   "cell_type": "markdown",
   "metadata": {},
   "source": [
    "**Preamble**\n",
    "\n",
    "This is a **group** project. Please indicate the names of all group members below. \n",
    "Each group is to comprise *five* to *six* members.\n",
    "To be clear, the group should submit ONE notebook.\n",
    "\n",
    "Please acknowledge all sources. "
   ]
  },
  {
   "cell_type": "markdown",
   "metadata": {},
   "source": [
    "Names\n",
    "- 1. Zhong Hao\n",
    "- 2. Wen Xingdi\n",
    "- 3.\n",
    "- 4.\n",
    "- 5.\n",
    "- 6. \n",
    "- 7.\n",
    "\n",
    "Sources (if applicable) :  \n",
    "[networkx求解最小费用最大流并可视化数据](https://blog.csdn.net/engineoid/article/details/107371618)  \n",
    "[Python小白的数学建模课-20.网络流优化案例](https://blog.csdn.net/youcans/article/details/118882174)  \n",
    "[图与网络——最小费用最大流问题精解](https://www.cnblogs.com/haohai9309/p/18409962)  \n",
    "[min_cost_flow — NetworkX 3.4.1 documentation](https://networkx.org/documentation/stable/reference/algorithms/generated/networkx.algorithms.flow.min_cost_flow.html)  \n",
    "Claude"
   ]
  },
  {
   "cell_type": "markdown",
   "metadata": {},
   "source": [
    "# Minimum Cost Network Flow Problem\n",
    "\n",
    "Project objectives:\n",
    "\n",
    "i. Investigate the application of minimum cost network flow (MCNF) in solving real-world problems.\n",
    "\n",
    "ii. Solve specific instances using both `PuLP` and `networkx` for comparison and analysis."
   ]
  },
  {
   "cell_type": "markdown",
   "metadata": {},
   "source": [
    "----\n",
    "\n",
    "# Tasks\n",
    "\n",
    "1. Choose a problem from this website: [Gurobi Jupyter Notebook Examples](https://www.gurobi.com/jupyter_models/?_difficulty_level=introductory). Note that the routines are written for the `Gurobi` library. <font color='red'>The syntax differs from that of `PuLP` \n",
    "and `networkx`</font>. You should be able to access the relevant datasets provided on `Gurobi`'s website.\n",
    "\n",
    "2. Understand the problem statement and formulate it as an instance of a Minimum Cost Network Flow  (MCNF). Clearly describe the network and its parameters, including demands, costs, and capacities.\n",
    " - **Note**: You are allowed to _simplify_ the problem.  If you do, make sure to explicitly state your simplifying assumptions.\n",
    "\n",
    "3. Write routines to solve the problem (using the dataset provided) using\n",
    " - the `PuLP` library: Reformulate the problem as a linear program.\n",
    " - the `networkx` library.\n",
    "I have provided an oversimplified example for the **assignment problem** discussed in class. See `MCNF Oversimplified Project v3.ipynb` in this [Dropbox Folder](https://www.dropbox.com/scl/fo/3f26s4pdlc17gn99hgq15/AH_uc01lQ1UMV276xHTXXQc?rlkey=s7jneaz34gu950qwo6t1bm0gy&dl=0). Do note that I did not make any comparisons in the example notebook.\n",
    "\n",
    "4. Compare the two solutions and discuss any differences. Consider factors such as running time and accuracy. Beyond implementation differences, you can also explore aspects like problem relaxation, sensitivity analysis, or certificates of optimality.\n",
    "\n",
    "5. Present your findings in a **video** (maximum 20 minutes) "
   ]
  },
  {
   "cell_type": "markdown",
   "metadata": {},
   "source": [
    "# Submission Details\n",
    "\n",
    "Your submission must include the following.\n",
    " - Provide the `PuLP` and `networkx` routines in this notebook. I will run the routines locally on my machine.\n",
    " - Prepare a short video (maximum 20 minutes) presenting your findings. In the video, you should:\n",
    "    - (i) Describe the problem statement.\n",
    "    - (ii) Formulate problem as an instance of the Minimum Cost Network Flow (MCNF).\n",
    "    - (iii) Discuss the differences in the `PuLP` and `networkx` implementations, considering factors such as running time.\n",
    "    - (iv) Share any interesting observations or insights related to optimisation, such as problem relaxation, sensitivity analysis, or certificates of optimality.\n",
    "  - Please **share the link in this notebook**. <font color = 'red'>DO NOT SEND ME THE VIDEO FILE</font>. You may supplement your explanation with the pictures, slides, or any written notes in this notebook.\n",
    "  - Please <font color='blue'>zip your notebook and the relevant datasets into a single file</font> for submission. \n",
    "  \n",
    "On **24 Oct**, each group will have a _10-minute session_ with me, during which I will ask questions based on the video and the group will respond verbally."
   ]
  },
  {
   "cell_type": "markdown",
   "metadata": {},
   "source": [
    "## Solving the Resource Assignment Problem as a Minimum Cost Network Flow"
   ]
  },
  {
   "cell_type": "markdown",
   "metadata": {},
   "source": [
    "----------------\n",
    "\n",
    "### Problem Statement\n",
    "\n",
    "<font color = 'blue'>Video Link: [YOUR LINK GOES HERE](https://quotefancy.com/quote/5580/C-S-Lewis-Integrity-is-doing-the-right-thing-even-when-no-one-is-watching)</font>\n",
    "\n",
    "We will reformulate the Resource Assignment Problem from the Gurobi \"Introduction to Mathematical Optimisation Modeling\" [notebook](https://www.gurobi.com/jupyter_models/introduction-to-mathematical-optimization-modeling/) as an instance of a Minimum Cost Network Flow (MCNF) problem.\n",
    "\n",
    "We have:  \n",
    "Resources (Candidates): Carlos, Joe, and Monika.  \n",
    "Jobs (Positions): Tester, Java Developer, and Architect.  \n",
    "Matching Scores: Each candidate has a score representing their suitability for each job.  \n",
    "Objective: Assign resources to jobs to maximise the total matching score.  \n",
    "\n",
    "Constraints:  \n",
    "Each job must be assigned to exactly one resource.  \n",
    "Each resource can be assigned to at most one job."
   ]
  },
  {
   "cell_type": "markdown",
   "metadata": {},
   "source": [
    "Simplifying Assumptions:\n",
    "- Capacities are set to 1 to represent that each resource/job can be used at most once.\n",
    "- Costs are the negative of matching scores to convert the maximisation problem into a minimisation problem.\n",
    "- Flows are integer values (0 or 1) due to capacity constraints."
   ]
  },
  {
   "cell_type": "markdown",
   "metadata": {},
   "source": [
    "We will then solve it using both the PuLP and NetworkX libraries."
   ]
  },
  {
   "cell_type": "markdown",
   "metadata": {},
   "source": [
    "----------------\n",
    "### Formulate as an MCNF Problem"
   ]
  },
  {
   "cell_type": "markdown",
   "metadata": {},
   "source": [
    "To model this as an MCNF problem, we construct a network with the following components:  \n",
    "\n",
    "Nodes:  \n",
    "- Source Node: Source  \n",
    "- Resource Nodes: Carlos, Joe, Monika  \n",
    "- Job Nodes: Tester, JavaDeveloper, Architect  \n",
    "- Sink Node: Sink  \n",
    "\n",
    "Edges:  \n",
    "- Edge from Source to each resource with capacity = 1 and cost = 0.  \n",
    "- Edge from each resource to each job with capacity = 1 and cost = -matching_score (since we aim to maximize matching scores).  \n",
    "- Edge from each job to Sink with capacity = 1 and cost = 0.\n",
    "\n",
    "Supplies/Demands:  \n",
    "- Source Node: Supply of 3 units (equal to the number of jobs).  \n",
    "- Sink Node: Demand of 3 units.  \n",
    "- Intermediate Nodes (Resources and Jobs): Neither supply nor demand (flow conservation applies)."
   ]
  },
  {
   "cell_type": "markdown",
   "metadata": {},
   "source": [
    "------------------\n",
    "\n",
    "### `PuLP` Routine"
   ]
  },
  {
   "cell_type": "code",
   "execution_count": 1,
   "metadata": {},
   "outputs": [],
   "source": [
    "# WRITE YOUR CODE HERE\n",
    "# import libraries\n",
    "import pulp"
   ]
  },
  {
   "cell_type": "markdown",
   "metadata": {},
   "source": [
    "Data Preparation"
   ]
  },
  {
   "cell_type": "code",
   "execution_count": 2,
   "metadata": {},
   "outputs": [],
   "source": [
    "# Resources and Jobs\n",
    "resources = ['Carlos', 'Joe', 'Monika']\n",
    "jobs = ['Tester', 'JavaDeveloper', 'Architect']\n",
    "\n",
    "# matching scores\n",
    "scores = {\n",
    "    ('Carlos', 'Tester'): 53,\n",
    "    ('Carlos', 'JavaDeveloper'): 27,\n",
    "    ('Carlos', 'Architect'): 13,\n",
    "    ('Joe', 'Tester'): 80,\n",
    "    ('Joe', 'JavaDeveloper'): 47,\n",
    "    ('Joe', 'Architect'): 67,\n",
    "    ('Monika', 'Tester'): 53,\n",
    "    ('Monika', 'JavaDeveloper'): 73,\n",
    "    ('Monika', 'Architect'): 47\n",
    "}"
   ]
  },
  {
   "cell_type": "markdown",
   "metadata": {},
   "source": [
    "Create the Linear Program Problem"
   ]
  },
  {
   "cell_type": "code",
   "execution_count": 3,
   "metadata": {},
   "outputs": [
    {
     "name": "stderr",
     "output_type": "stream",
     "text": [
      "c:\\ProgramData\\anaconda3\\envs\\mlaenv\\lib\\site-packages\\pulp\\pulp.py:1298: UserWarning: Spaces are not permitted in the name. Converted to '_'\n",
      "  warnings.warn(\"Spaces are not permitted in the name. Converted to '_'\")\n"
     ]
    }
   ],
   "source": [
    "# define the problem\n",
    "prob = pulp.LpProblem(\"Resource Assignment Problem as MCNF\", pulp.LpMinimize)"
   ]
  },
  {
   "cell_type": "markdown",
   "metadata": {},
   "source": [
    "Define Variables"
   ]
  },
  {
   "cell_type": "code",
   "execution_count": 4,
   "metadata": {},
   "outputs": [],
   "source": [
    "# flow variables between resources and jobs\n",
    "flow_vars = {}\n",
    "for r in resources:\n",
    "    for j in jobs:\n",
    "        var = pulp.LpVariable(f'flow_{r}_{j}', cat='Binary')\n",
    "        flow_vars[(r, j)] = var\n",
    "\n",
    "# flow variables from source to resources\n",
    "source_vars = {}\n",
    "for r in resources:\n",
    "    var = pulp.LpVariable(f'flow_Source_{r}', cat='Binary')\n",
    "    source_vars[r] = var\n",
    "\n",
    "# flow variables from jobs to sink\n",
    "sink_vars = {}\n",
    "for j in jobs:\n",
    "    var = pulp.LpVariable(f'flow_{j}_Sink', cat='Binary')\n",
    "    sink_vars[j] = var"
   ]
  },
  {
   "cell_type": "markdown",
   "metadata": {},
   "source": [
    "Objective Function"
   ]
  },
  {
   "cell_type": "markdown",
   "metadata": {},
   "source": [
    "Since we want to maximize the total matching score, we minimize the negative total matching score."
   ]
  },
  {
   "cell_type": "code",
   "execution_count": 5,
   "metadata": {},
   "outputs": [],
   "source": [
    "# set the objective function\n",
    "prob += pulp.lpSum([\n",
    "    -scores[(r, j)] * flow_vars[(r, j)] for r in resources for j in jobs\n",
    "])"
   ]
  },
  {
   "cell_type": "markdown",
   "metadata": {},
   "source": [
    "Constraints"
   ]
  },
  {
   "cell_type": "markdown",
   "metadata": {},
   "source": [
    "**Flow Conservation Constraints**  \n",
    "At Resources:  \n",
    "$$\n",
    "\\text{flow from Source to Resource} = \\sum_{\\text{Jobs}} \\text{flow from Resource to Jobs}\n",
    "$$\n",
    "At Jobs:  \n",
    "$$\n",
    "\\sum_{\\text{Resources}} \\text{flow from Resources to Job} = \\text{flow from Job to Sink}\n",
    "$$"
   ]
  },
  {
   "cell_type": "code",
   "execution_count": 6,
   "metadata": {},
   "outputs": [],
   "source": [
    "for r in resources:\n",
    "    prob += source_vars[r] == pulp.lpSum([flow_vars[(r, j)] for j in jobs]), f'Flow_Conservation_Resource_{r}'\n",
    "\n",
    "for j in jobs:\n",
    "    prob += pulp.lpSum([flow_vars[(r, j)] for r in resources]) == sink_vars[j], f'Flow_Conservation_Job_{j}'"
   ]
  },
  {
   "cell_type": "markdown",
   "metadata": {},
   "source": [
    "**Capacity Constraints**  \n",
    "Source to Resources and Jobs to Sink capacities are 1.  \n",
    "Resources to Jobs capacities are 1 (already defined by binary variables)."
   ]
  },
  {
   "cell_type": "code",
   "execution_count": 7,
   "metadata": {},
   "outputs": [],
   "source": [
    "for r in resources:\n",
    "    prob += source_vars[r] <= 1, f'Capacity_Source_{r}'\n",
    "\n",
    "for j in jobs:\n",
    "    prob += sink_vars[j] <= 1, f'Capacity_Sink_{j}'"
   ]
  },
  {
   "cell_type": "markdown",
   "metadata": {},
   "source": [
    "**Supply and Demand at Nodes**  \n",
    "Source supplies 3 units.  \n",
    "Sink demands 3 units."
   ]
  },
  {
   "cell_type": "code",
   "execution_count": 8,
   "metadata": {},
   "outputs": [],
   "source": [
    "prob += pulp.lpSum([source_vars[r] for r in resources]) == 3, 'Source_Supply'\n",
    "prob += pulp.lpSum([sink_vars[j] for j in jobs]) == 3, 'Sink_Demand'"
   ]
  },
  {
   "cell_type": "markdown",
   "metadata": {},
   "source": [
    "Solve the Problem"
   ]
  },
  {
   "cell_type": "code",
   "execution_count": 9,
   "metadata": {},
   "outputs": [
    {
     "data": {
      "text/plain": [
       "1"
      ]
     },
     "execution_count": 9,
     "metadata": {},
     "output_type": "execute_result"
    }
   ],
   "source": [
    "# solve the problem\n",
    "prob.solve()"
   ]
  },
  {
   "cell_type": "markdown",
   "metadata": {},
   "source": [
    "When prob.solve() returns 1, it means that the solver has found an optimal solution to the problem."
   ]
  },
  {
   "cell_type": "markdown",
   "metadata": {},
   "source": [
    "Results"
   ]
  },
  {
   "cell_type": "code",
   "execution_count": 10,
   "metadata": {},
   "outputs": [
    {
     "name": "stdout",
     "output_type": "stream",
     "text": [
      "Status: Optimal\n",
      "Total Matching Score: 193.0\n",
      "\n",
      "Assignments:\n",
      "Carlos assigned to Tester\n",
      "Joe assigned to Architect\n",
      "Monika assigned to JavaDeveloper\n"
     ]
    }
   ],
   "source": [
    "print(\"Status:\", pulp.LpStatus[prob.status])\n",
    "print(\"Total Matching Score:\", -pulp.value(prob.objective))\n",
    "\n",
    "print(\"\\nAssignments:\")\n",
    "for (r, j), var in flow_vars.items():\n",
    "    if var.varValue > 0.5:\n",
    "        print(f\"{r} assigned to {j}\")"
   ]
  },
  {
   "cell_type": "markdown",
   "metadata": {},
   "source": [
    "------------------\n",
    "\n",
    "### `networkx` Routine"
   ]
  },
  {
   "cell_type": "code",
   "execution_count": 11,
   "metadata": {},
   "outputs": [],
   "source": [
    "# WRITE YOUR CODE HERE\n",
    "# import libraries\n",
    "import networkx as nx"
   ]
  },
  {
   "cell_type": "markdown",
   "metadata": {},
   "source": [
    "Create the Graph"
   ]
  },
  {
   "cell_type": "code",
   "execution_count": 12,
   "metadata": {},
   "outputs": [],
   "source": [
    "G = nx.DiGraph()\n",
    "\n",
    "# add edges from Source to Resources\n",
    "for r in resources:\n",
    "    G.add_edge('Source', r, capacity=1, weight=0)\n",
    "\n",
    "# add edges from Resources to Jobs\n",
    "for (r, j), score in scores.items():\n",
    "    G.add_edge(r, j, capacity=1, weight=-score)\n",
    "\n",
    "# add edges from Jobs to Sink\n",
    "for j in jobs:\n",
    "    G.add_edge(j, 'Sink', capacity=1, weight=0)"
   ]
  },
  {
   "cell_type": "markdown",
   "metadata": {},
   "source": [
    "Set Node Demands\n",
    "- Source: Demand of -3 (Supply of 3 units)\n",
    "- Sink: Demand of 3\n",
    "- All other nodes: Demand of 0"
   ]
  },
  {
   "cell_type": "code",
   "execution_count": 13,
   "metadata": {},
   "outputs": [],
   "source": [
    "demand = {'Source': -3, 'Sink': 3}\n",
    "for node in G.nodes():\n",
    "    if node not in demand:\n",
    "        demand[node] = 0\n",
    "\n",
    "nx.set_node_attributes(G, demand, 'demand')"
   ]
  },
  {
   "cell_type": "markdown",
   "metadata": {},
   "source": [
    "Solve the MCNF Problem"
   ]
  },
  {
   "cell_type": "code",
   "execution_count": 14,
   "metadata": {},
   "outputs": [],
   "source": [
    "# compute the minimum cost flow\n",
    "flowCost, flowDict = nx.network_simplex(G)"
   ]
  },
  {
   "cell_type": "markdown",
   "metadata": {},
   "source": [
    "Results"
   ]
  },
  {
   "cell_type": "code",
   "execution_count": 15,
   "metadata": {},
   "outputs": [
    {
     "name": "stdout",
     "output_type": "stream",
     "text": [
      "Total Matching Score: 193\n",
      "\n",
      "Assignments:\n",
      "Carlos assigned to Tester\n",
      "Joe assigned to Architect\n",
      "Monika assigned to JavaDeveloper\n"
     ]
    }
   ],
   "source": [
    "print(\"Total Matching Score:\", -flowCost)\n",
    "\n",
    "print(\"\\nAssignments:\")\n",
    "for r in resources:\n",
    "    for j in jobs:\n",
    "        if flowDict[r][j] > 0.5:\n",
    "            print(f\"{r} assigned to {j}\")"
   ]
  },
  {
   "cell_type": "markdown",
   "metadata": {},
   "source": [
    "------------------\n",
    "### Compare the two Solutions and Discuss Any Differences"
   ]
  },
  {
   "cell_type": "markdown",
   "metadata": {},
   "source": [
    "**Observations from the Results**:  \n",
    "From the output, we can observe that both the PuLP routine and the networkx routine yield the same total matching score of 193. Additionally, both methods assign resources to jobs in an identical manner.  \n",
    "For this problem, both methods solve instantaneously and provide exact integer solutions due to the problem's structure and the integer capacities involved."
   ]
  },
  {
   "cell_type": "markdown",
   "metadata": {},
   "source": [
    "**Implementation Differences**  \n",
    "The PuLP routine requires an explicit formulation of the linear programming problem, including defining variables, the objective function, and constraints. This method offers flexibility in modelling custom constraints and variables, making it highly adaptable to a wide range of problems. The solver used in PuLP depends on the default solver, such as CBC, but can be modified depending on the user’s preference.  \n",
    "On the other hand, networkx utilises built-in network flow algorithms, such as network_simplex, which automatically handle flow conservation and capacity constraints based on the network structure. This makes it especially suitable for problems that can naturally be expressed as flow networks. Unlike PuLP, networkx requires less explicit formulation, relying instead on the inherent properties of network flow algorithms."
   ]
  },
  {
   "cell_type": "markdown",
   "metadata": {},
   "source": [
    "**Problem Relaxation**  \n",
    "The constraint matrix in the assignment problem is\n",
    "| Constraint / Variable | x₁,₁ | x₁,₂ | x₁,₃ | x₂,₁ | x₂,₂ | x₂,₃ | x₃,₁ | x₃,₂ | x₃,₃ | RHS |\n",
    "|:----------------------|:----:|:----:|:----:|:----:|:----:|:----:|:----:|:----:|:----:|:---:|\n",
    "| Resource Constraints  |      |      |      |      |      |      |      |      |      |     |\n",
    "| 1. Carlos             |  1   |  1   |  1   |  0   |  0   |  0   |  0   |  0   |  0   |  1  |\n",
    "| 2. Joe                |  0   |  0   |  0   |  1   |  1   |  1   |  0   |  0   |  0   |  1  |\n",
    "| 3. Monika             |  0   |  0   |  0   |  0   |  0   |  0   |  1   |  1   |  1   |  1  |\n",
    "| Job Constraints       |      |      |      |      |      |      |      |      |      |     |\n",
    "| 4. Tester             |  1   |  0   |  0   |  1   |  0   |  0   |  1   |  0   |  0   |  1  |\n",
    "| 5. Java Developer     |  0   |  1   |  0   |  0   |  1   |  0   |  0   |  1   |  0   |  1  |\n",
    "| 6. Architect          |  0   |  0   |  1   |  0   |  0   |  1   |  0   |  0   |  1   |  1  |\n",
    "\n",
    "Where:\n",
    "\n",
    "- x₁,₁: Carlos assigned to Tester.\n",
    "- x₂,₂: Joe assigned to Java Developer.\n",
    "- x₃,₃: Monika assigned to Architect.\n",
    "\n",
    "which is totally unimodular.\n",
    "\n",
    "In both implementations, variables are defined as binary to represent assignment decisions. The network simplex algorithm in networkx inherently works with integer flows when capacities and supplies/demands are integers, ensuring a natural alignment with the problem's requirements. This allows for direct interpretation of the solution in terms of assignments without needing additional rounding or post-processing steps.  \n",
    "Relaxing the problem to allow fractional flows does not impact the optimality in this case due to the total unimodularity property of the assignment problem's constraint matrix. This property ensures that even when the problem is relaxed, the solution remains integer, guaranteeing that both the PuLP and networkx approaches deliver exact, optimal solutions."
   ]
  },
  {
   "cell_type": "markdown",
   "metadata": {},
   "source": [
    "**Sensitivity Analysis**  \n",
    "PuLP allows access to dual variables and reduced costs if the solver provides them. Sensitivity analysis can be performed to understand how changes in matching scores affect the solution.  \n",
    "In contrast, networkx does not directly provide dual variables. Sensitivity analysis would require re-running the algorithm with modified parameters."
   ]
  },
  {
   "cell_type": "markdown",
   "metadata": {},
   "source": [
    "**Certificates of Optimality**  \n",
    "Both methods guarantee optimality for linear programming problems. PuLP provides detailed solver output, which can be used to analyze dual variables and perform sensitivity analysis.  \n",
    "The networkx's network_simplex algorithm ensures that the flow cost is minimized, and given the problem's structure, the solution is optimal."
   ]
  }
 ],
 "metadata": {
  "kernelspec": {
   "display_name": "mlaenv",
   "language": "python",
   "name": "python3"
  },
  "language_info": {
   "codemirror_mode": {
    "name": "ipython",
    "version": 3
   },
   "file_extension": ".py",
   "mimetype": "text/x-python",
   "name": "python",
   "nbconvert_exporter": "python",
   "pygments_lexer": "ipython3",
   "version": "3.10.13"
  }
 },
 "nbformat": 4,
 "nbformat_minor": 2
}
